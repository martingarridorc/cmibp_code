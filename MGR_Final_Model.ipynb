{
 "cells": [
  {
   "cell_type": "code",
   "execution_count": 1,
   "metadata": {},
   "outputs": [],
   "source": [
    "import pandas as pd\n",
    "import numpy as np\n",
    "import matplotlib.pyplot as plt\n",
    "import seaborn as sns\n",
    "from sklearn.preprocessing import StandardScaler\n",
    "from sklearn.model_selection import KFold\n",
    "from sklearn.model_selection import StratifiedKFold\n",
    "import xgboost as xgb\n",
    "from scipy.stats import spearmanr\n",
    "import subprocess\n",
    "import pickle\n",
    "import os"
   ]
  },
  {
   "cell_type": "code",
   "execution_count": 2,
   "metadata": {},
   "outputs": [],
   "source": [
    "# list all tsv files in target_idr\n",
    "target_dir = 'data/original/tsv/'\n",
    "all_files = os.listdir(target_dir)\n",
    "\n",
    "pbmcfreq_train = pd.read_csv(target_dir + 'training_pbmc_cell_frequency_long.tsv', sep='\\t')\n",
    "pbmcfreq_chal = pd.read_csv(target_dir + 'challenge_pbmc_cell_frequency_long.tsv', sep='\\t')\n",
    "pbmcfreq = pd.concat([pbmcfreq_train, pbmcfreq_chal])\n",
    "pbmcfreq = pbmcfreq.rename(columns={'cell_type_name': 'variable', 'percent_live_cell': 'value'})\n",
    "pbmcfreq = pbmcfreq[['specimen_id', 'variable', 'value']]\n",
    "\n",
    "genexp_train = pd.read_csv(target_dir + 'training_pbmc_gene_expression_long.tsv', sep='\\t')\n",
    "genexp_chal = pd.read_csv(target_dir + 'challenge_pbmc_gene_expression_long.tsv', sep='\\t')\n",
    "genexp = pd.concat([genexp_train, genexp_chal])\n",
    "genexp = genexp.rename(columns={'versioned_ensembl_gene_id': 'variable', 'tpm': 'value'})\n",
    "genexp = genexp[['specimen_id', 'variable', 'value']]\n",
    "\n",
    "cytoplex_train = pd.read_csv(target_dir + 'training_plasma_cytokine_concentrations_by_legendplex_long.tsv', sep='\\t')\n",
    "cytoplex_chal = pd.read_csv(target_dir + 'challenge_plasma_cytokine_concentrations_by_legendplex_long.tsv', sep='\\t')\n",
    "cytoplex = pd.concat([cytoplex_train, cytoplex_chal])\n",
    "cytoplex = cytoplex.rename(columns={'protein_id': 'variable', 'concentration': 'value'})\n",
    "cytoplex = cytoplex[['specimen_id', 'variable', 'value']]\n",
    "cytoplex['variable'] = cytoplex['variable'] + '_plex'\n",
    "\n",
    "cytolink_train = pd.read_csv(target_dir + 'training_plasma_cytokine_concentrations_by_olink_long.tsv', sep='\\t')\n",
    "cytolink_chal = pd.read_csv(target_dir + 'challenge_plasma_cytokine_concentrations_by_olink_long.tsv', sep='\\t')\n",
    "cytolink = pd.concat([cytolink_train, cytolink_chal])\n",
    "cytolink = cytolink.rename(columns={'protein_id': 'variable', 'concentration': 'value'})\n",
    "cytolink = cytolink[['specimen_id', 'variable', 'value']]\n",
    "cytolink['variable'] = cytolink['variable'] + '_link'\n",
    "\n",
    "tact_train = pd.read_csv(target_dir + 'training_t_cell_activation_long.tsv', sep='\\t')\n",
    "tact_chal = pd.read_csv(target_dir + 'challenge_t_cell_activation_long.tsv', sep='\\t')\n",
    "tact = pd.concat([tact_train, tact_chal])\n",
    "tact = tact.rename(columns={'stimulation': 'variable', 'analyte_percentages': 'value'})\n",
    "tact = tact[['specimen_id', 'variable', 'value']]\n",
    "\n",
    "tpol_train = pd.read_csv(target_dir + 'training_t_cell_polarization_long.tsv', sep='\\t')\n",
    "tpol_chal = pd.read_csv(target_dir + 'challenge_t_cell_polarization_long.tsv', sep='\\t')\n",
    "tpol = pd.concat([tpol_train, tpol_chal])\n",
    "tpol = tpol.rename(columns={'stimulation_protein_id': 'variable', 'analyte_counts': 'value'})\n",
    "tpol = tpol[['specimen_id', 'variable', 'value']]   \n",
    "\n",
    "ab_train = pd.read_csv(target_dir + 'training_plasma_antibody_levels_long.tsv', sep='\\t')\n",
    "ab_chal = pd.read_csv(target_dir + 'challenge_plasma_antibody_levels_long.tsv', sep='\\t')\n",
    "ab = pd.concat([ab_train, ab_chal])\n",
    "ab = ab.rename(columns={'isotype_antigen': 'variable', 'MFI_normalised': 'value'})\n",
    "ab = ab[['specimen_id', 'variable', 'value']]\n",
    "\n",
    "combined_long = pd.concat([pbmcfreq, genexp, cytoplex, cytolink, tact, tpol, ab])"
   ]
  },
  {
   "cell_type": "code",
   "execution_count": 3,
   "metadata": {},
   "outputs": [],
   "source": [
    "sub_info_training = pd.read_csv('data/original/tsv/training_subject_specimen.tsv', sep='\\t')\n",
    "sub_info_challenge = pd.read_csv('data/original/tsv/challenge_subject_specimen.tsv', sep='\\t')\n",
    "sub_info = pd.concat([sub_info_training, sub_info_challenge])\n",
    "\n",
    "sub_selected = sub_info[['subject_id', 'infancy_vac', 'biological_sex', 'ethnicity', 'year_of_birth', 'date_of_boost', 'dataset']].drop_duplicates()\n",
    "sub_selected['years_from_boost'] = 2024 - sub_selected['date_of_boost'].str.split('-').str[0].astype(float)\n",
    "sub_selected['age'] = 2024 - sub_selected['year_of_birth'].str.split('-').str[0].astype(float)\n",
    "sub_selected = sub_selected.drop(columns=['year_of_birth', 'date_of_boost'])"
   ]
  },
  {
   "cell_type": "code",
   "execution_count": 4,
   "metadata": {},
   "outputs": [],
   "source": [
    "spec_to_timepoint = sub_info[['specimen_id', 'subject_id', 'timepoint']].drop_duplicates()\n",
    "combined_to_timepoint = pd.merge(combined_long, spec_to_timepoint, on='specimen_id', how='inner')\n",
    "combined_to_timepoint['variable'] = combined_to_timepoint['variable'] + '__' + combined_to_timepoint['timepoint'].astype(str)\n",
    "combined_to_timepoint = combined_to_timepoint.drop(columns=['specimen_id', 'timepoint'])"
   ]
  },
  {
   "cell_type": "code",
   "execution_count": 5,
   "metadata": {},
   "outputs": [],
   "source": [
    "data = combined_to_timepoint.pivot(index='subject_id', columns='variable', values='value').reset_index()\n",
    "data = pd.merge(data, sub_selected, on='subject_id', how='left')\n",
    "data = data.set_index('subject_id')\n",
    "is_training = data['dataset'] != '2023_dataset'\n",
    "data = data.drop(columns=['dataset'])"
   ]
  },
  {
   "cell_type": "code",
   "execution_count": 6,
   "metadata": {},
   "outputs": [],
   "source": [
    "# ages to numerical\n",
    "numerical_columns = data.select_dtypes(include=[np.number]).columns\n",
    "categorical_columns = data.columns.difference(numerical_columns)\n",
    "numeric_x = data[numerical_columns]\n",
    "categorical_columns = data[categorical_columns]\n",
    "categorical_columns = pd.get_dummies(categorical_columns)\n",
    "data = pd.concat([numeric_x, categorical_columns], axis=1)"
   ]
  },
  {
   "cell_type": "code",
   "execution_count": 7,
   "metadata": {},
   "outputs": [],
   "source": [
    "training = data[is_training].copy()\n",
    "challenge = data[~is_training].copy()\n",
    "\n",
    "col_tuples = [\n",
    "    ('ENSG00000277632.1__3', 'ENSG00000277632.1__0'),\n",
    "    ('Monocytes__1', 'Monocytes__0'),\n",
    "    ('IgG_PT__14', 'IgG_PT__0'),\n",
    "]\n",
    "for int_tuple in col_tuples:\n",
    "    training['pred_' + int_tuple[0]] = training[int_tuple[0]] \n",
    "    training['pred_fc_' + int_tuple[0]] = np.log2(training[int_tuple[0]] / training[int_tuple[1]])"
   ]
  },
  {
   "cell_type": "code",
   "execution_count": 8,
   "metadata": {},
   "outputs": [],
   "source": [
    "training['pred_bonus'] = np.log2(training['PHA_P01579__30'] / training['PHA_P05113__30'])"
   ]
  },
  {
   "cell_type": "code",
   "execution_count": 9,
   "metadata": {},
   "outputs": [],
   "source": [
    "# compute all variances across columns\n",
    "vars = challenge.var(axis=0)\n",
    "cols_to_keep = vars[vars > 0].index"
   ]
  },
  {
   "cell_type": "code",
   "execution_count": 10,
   "metadata": {},
   "outputs": [],
   "source": [
    "x = training[cols_to_keep].copy()\n",
    "x_challenge = challenge[cols_to_keep].copy()\n",
    "y = training.filter(regex='^pred_').copy()"
   ]
  },
  {
   "cell_type": "code",
   "execution_count": null,
   "metadata": {},
   "outputs": [
    {
     "name": "stderr",
     "output_type": "stream",
     "text": [
      "/Users/mrodrigu/miniforge3/lib/python3.10/site-packages/seaborn/categorical.py:640: FutureWarning: SeriesGroupBy.grouper is deprecated and will be removed in a future version of pandas.\n",
      "  positions = grouped.grouper.result_index.to_numpy(dtype=float)\n",
      "/Users/mrodrigu/miniforge3/lib/python3.10/site-packages/seaborn/_base.py:949: FutureWarning: When grouping with a length-1 list-like, you will need to pass a length-1 tuple to get_group in a future version of pandas. Pass `(name,)` instead of `name` to silence this warning.\n",
      "  data_subset = grouped_data.get_group(pd_key)\n",
      "/Users/mrodrigu/miniforge3/lib/python3.10/site-packages/seaborn/_base.py:949: FutureWarning: When grouping with a length-1 list-like, you will need to pass a length-1 tuple to get_group in a future version of pandas. Pass `(name,)` instead of `name` to silence this warning.\n",
      "  data_subset = grouped_data.get_group(pd_key)\n",
      "/Users/mrodrigu/miniforge3/lib/python3.10/site-packages/seaborn/_base.py:949: FutureWarning: When grouping with a length-1 list-like, you will need to pass a length-1 tuple to get_group in a future version of pandas. Pass `(name,)` instead of `name` to silence this warning.\n",
      "  data_subset = grouped_data.get_group(pd_key)\n",
      "/Users/mrodrigu/miniforge3/lib/python3.10/site-packages/seaborn/_base.py:949: FutureWarning: When grouping with a length-1 list-like, you will need to pass a length-1 tuple to get_group in a future version of pandas. Pass `(name,)` instead of `name` to silence this warning.\n",
      "  data_subset = grouped_data.get_group(pd_key)\n",
      "/Users/mrodrigu/miniforge3/lib/python3.10/site-packages/seaborn/_base.py:949: FutureWarning: When grouping with a length-1 list-like, you will need to pass a length-1 tuple to get_group in a future version of pandas. Pass `(name,)` instead of `name` to silence this warning.\n",
      "  data_subset = grouped_data.get_group(pd_key)\n",
      "/Users/mrodrigu/miniforge3/lib/python3.10/site-packages/seaborn/_base.py:949: FutureWarning: When grouping with a length-1 list-like, you will need to pass a length-1 tuple to get_group in a future version of pandas. Pass `(name,)` instead of `name` to silence this warning.\n",
      "  data_subset = grouped_data.get_group(pd_key)\n",
      "/Users/mrodrigu/miniforge3/lib/python3.10/site-packages/seaborn/_base.py:949: FutureWarning: When grouping with a length-1 list-like, you will need to pass a length-1 tuple to get_group in a future version of pandas. Pass `(name,)` instead of `name` to silence this warning.\n",
      "  data_subset = grouped_data.get_group(pd_key)\n"
     ]
    },
    {
     "data": {
      "text/plain": [
       "<Axes: xlabel='feature', ylabel='spearman'>"
      ]
     },
     "metadata": {},
     "output_type": "display_data"
    },
    {
     "data": {
      "image/png": "[encoded data removed]",
      "text/plain": [
       "<Figure size 640x480 with 1 Axes>"
      ]
     },
     "metadata": {},
     "output_type": "display_data"
    }
   ],
   "source": [
    "final_results = pd.read_csv('data/hyperparam_harmdata.csv')\n",
    "sns.boxplot(data=final_results, x='feature', y='spearman')\n",
    "sns.violinplot(data=final_results, x='feature', y='spearman')"
   ]
  },
  {
   "cell_type": "code",
   "execution_count": 15,
   "metadata": {},
   "outputs": [
    {
     "data": {
      "text/html": [
       "<div>\n",
       "<style scoped>\n",
       "    .dataframe tbody tr th:only-of-type {\n",
       "        vertical-align: middle;\n",
       "    }\n",
       "\n",
       "    .dataframe tbody tr th {\n",
       "        vertical-align: top;\n",
       "    }\n",
       "\n",
       "    .dataframe thead th {\n",
       "        text-align: right;\n",
       "    }\n",
       "</style>\n",
       "<table border=\"1\" class=\"dataframe\">\n",
       "  <thead>\n",
       "    <tr style=\"text-align: right;\">\n",
       "      <th></th>\n",
       "      <th>feature</th>\n",
       "      <th>spearman</th>\n",
       "      <th>n_folds</th>\n",
       "      <th>n_estimators</th>\n",
       "      <th>max_depth</th>\n",
       "      <th>learning_rate</th>\n",
       "      <th>summary</th>\n",
       "    </tr>\n",
       "  </thead>\n",
       "  <tbody>\n",
       "    <tr>\n",
       "      <th>735</th>\n",
       "      <td>pred_ENSG00000277632.1__3</td>\n",
       "      <td>0.346413</td>\n",
       "      <td>5</td>\n",
       "      <td>100</td>\n",
       "      <td>7</td>\n",
       "      <td>0.005</td>\n",
       "      <td>mean</td>\n",
       "    </tr>\n",
       "    <tr>\n",
       "      <th>599</th>\n",
       "      <td>pred_IgG_PT__14</td>\n",
       "      <td>0.577685</td>\n",
       "      <td>5</td>\n",
       "      <td>500</td>\n",
       "      <td>3</td>\n",
       "      <td>0.050</td>\n",
       "      <td>mean</td>\n",
       "    </tr>\n",
       "    <tr>\n",
       "      <th>646</th>\n",
       "      <td>pred_Monocytes__1</td>\n",
       "      <td>0.602965</td>\n",
       "      <td>5</td>\n",
       "      <td>100</td>\n",
       "      <td>9</td>\n",
       "      <td>0.050</td>\n",
       "      <td>mean</td>\n",
       "    </tr>\n",
       "    <tr>\n",
       "      <th>300</th>\n",
       "      <td>pred_bonus</td>\n",
       "      <td>-0.117056</td>\n",
       "      <td>5</td>\n",
       "      <td>50</td>\n",
       "      <td>5</td>\n",
       "      <td>0.100</td>\n",
       "      <td>mean</td>\n",
       "    </tr>\n",
       "    <tr>\n",
       "      <th>386</th>\n",
       "      <td>pred_fc_ENSG00000277632.1__3</td>\n",
       "      <td>0.205037</td>\n",
       "      <td>5</td>\n",
       "      <td>100</td>\n",
       "      <td>3</td>\n",
       "      <td>0.050</td>\n",
       "      <td>mean</td>\n",
       "    </tr>\n",
       "    <tr>\n",
       "      <th>390</th>\n",
       "      <td>pred_fc_IgG_PT__14</td>\n",
       "      <td>0.703589</td>\n",
       "      <td>5</td>\n",
       "      <td>100</td>\n",
       "      <td>3</td>\n",
       "      <td>0.050</td>\n",
       "      <td>mean</td>\n",
       "    </tr>\n",
       "    <tr>\n",
       "      <th>346</th>\n",
       "      <td>pred_fc_Monocytes__1</td>\n",
       "      <td>0.347353</td>\n",
       "      <td>5</td>\n",
       "      <td>100</td>\n",
       "      <td>3</td>\n",
       "      <td>0.100</td>\n",
       "      <td>mean</td>\n",
       "    </tr>\n",
       "  </tbody>\n",
       "</table>\n",
       "</div>"
      ],
      "text/plain": [
       "                          feature  spearman  n_folds  n_estimators  max_depth  \\\n",
       "735     pred_ENSG00000277632.1__3  0.346413        5           100          7   \n",
       "599               pred_IgG_PT__14  0.577685        5           500          3   \n",
       "646             pred_Monocytes__1  0.602965        5           100          9   \n",
       "300                    pred_bonus -0.117056        5            50          5   \n",
       "386  pred_fc_ENSG00000277632.1__3  0.205037        5           100          3   \n",
       "390            pred_fc_IgG_PT__14  0.703589        5           100          3   \n",
       "346          pred_fc_Monocytes__1  0.347353        5           100          3   \n",
       "\n",
       "     learning_rate summary  \n",
       "735          0.005    mean  \n",
       "599          0.050    mean  \n",
       "646          0.050    mean  \n",
       "300          0.100    mean  \n",
       "386          0.050    mean  \n",
       "390          0.050    mean  \n",
       "346          0.100    mean  "
      ]
     },
     "execution_count": 15,
     "metadata": {},
     "output_type": "execute_result"
    }
   ],
   "source": [
    "# for each feature, get the best parameters\n",
    "best_params = final_results.loc[final_results.groupby('feature')['spearman'].idxmax()]\n",
    "best_params"
   ]
  },
  {
   "cell_type": "code",
   "execution_count": 17,
   "metadata": {},
   "outputs": [
    {
     "name": "stdout",
     "output_type": "stream",
     "text": [
      "pred_ENSG00000277632.1__3\n",
      "Fold: 0\n",
      "Fold: 1\n",
      "Fold: 2\n",
      "Fold: 3\n",
      "Fold: 4\n",
      "pred_IgG_PT__14\n",
      "Fold: 0\n",
      "Fold: 1\n",
      "Fold: 2\n",
      "Fold: 3\n",
      "Fold: 4\n",
      "pred_Monocytes__1\n",
      "Fold: 0\n",
      "Fold: 1\n",
      "Fold: 2\n",
      "Fold: 3\n",
      "Fold: 4\n",
      "pred_bonus\n",
      "Fold: 0\n",
      "Fold: 1\n",
      "Fold: 2\n",
      "Fold: 3\n",
      "Fold: 4\n",
      "pred_fc_ENSG00000277632.1__3\n",
      "Fold: 0\n",
      "Fold: 1\n",
      "Fold: 2\n",
      "Fold: 3\n",
      "Fold: 4\n",
      "pred_fc_IgG_PT__14\n",
      "Fold: 0\n",
      "Fold: 1\n",
      "Fold: 2\n",
      "Fold: 3\n",
      "Fold: 4\n",
      "pred_fc_Monocytes__1\n",
      "Fold: 0\n",
      "Fold: 1\n",
      "Fold: 2\n",
      "Fold: 3\n",
      "Fold: 4\n"
     ]
    }
   ],
   "source": [
    "final_preds = {}\n",
    "# iterate over rows\n",
    "for i, row in best_params.iterrows():\n",
    "    int_feature = row['feature']\n",
    "    n_folds = row['n_folds']\n",
    "    n_estimators = row['n_estimators']\n",
    "    max_depth = row['max_depth']\n",
    "    learning_rate = row['learning_rate']\n",
    "    summary = row['summary']\n",
    "\n",
    "    print(int_feature)\n",
    "\n",
    "    # define x and y\n",
    "    int_y = y[[int_feature]]\n",
    "    nan_index = int_y[int_y.isna().any(axis=1)].index\n",
    "    int_y = int_y.drop(nan_index)\n",
    "    int_x = x.drop(nan_index)\n",
    "\n",
    "    # prepare kfold\n",
    "    kf = KFold(n_splits=n_folds, shuffle=True, random_state=42)\n",
    "    \n",
    "    challenge_predictions = []\n",
    "    for k, (train_index, test_index) in enumerate(kf.split(int_x)):\n",
    "\n",
    "        print('Fold: ' + str(k))\n",
    "\n",
    "        x_train, x_test = int_x.iloc[train_index], int_x.iloc[test_index]\n",
    "        y_train, y_test = int_y.iloc[train_index], int_y.iloc[test_index]\n",
    "\n",
    "        model = xgb.XGBRegressor(n_estimators=n_estimators, max_depth=max_depth, learning_rate=learning_rate, early_stopping_rounds=50)\n",
    "        model.fit(x_train, y_train, eval_set=[(x_test, y_test)], verbose=False)\n",
    "        \n",
    "        challenge_pred = model.predict(x_challenge, iteration_range=(0, model.best_iteration))\n",
    "        challenge_predictions.append(challenge_pred)\n",
    "    \n",
    "    if summary == 'mean':\n",
    "        challenge_pred = np.mean(challenge_predictions, axis=0)\n",
    "    elif summary == 'median':\n",
    "        challenge_pred = np.median(challenge_predictions, axis=0)\n",
    "\n",
    "    final_preds[int_feature] = challenge_pred"
   ]
  },
  {
   "cell_type": "code",
   "execution_count": 18,
   "metadata": {},
   "outputs": [],
   "source": [
    "# create dataframe with final preds\n",
    "final_pred_df = pd.DataFrame(final_preds)\n",
    "# in the columns that contain a fc, check if the\n",
    "\n",
    "col_tuples = [\n",
    "    ('ENSG00000277632.1__3', 'ENSG00000277632.1__0'),\n",
    "    ('Monocytes__1', 'Monocytes__0'),\n",
    "    ('IgG_PT__14', 'IgG_PT__0'),\n",
    "]\n",
    "\n",
    "# for columns that contain fc, if the second tuple element in challenge data is NaN, set NaN in the final_pred_df\n",
    "for i, (j,row) in enumerate(x_challenge.iterrows()):\n",
    "    for int_tuple in col_tuples:\n",
    "        if np.isnan(row[int_tuple[1]]):\n",
    "            final_pred_df.loc[i, 'pred_fc_' + int_tuple[0]] = np.nan"
   ]
  },
  {
   "cell_type": "code",
   "execution_count": 19,
   "metadata": {},
   "outputs": [],
   "source": [
    "final_pred_df['subject_id'] = challenge.index"
   ]
  },
  {
   "cell_type": "code",
   "execution_count": 21,
   "metadata": {},
   "outputs": [],
   "source": [
    "# read challenge template\n",
    "template = pd.read_csv('data/original/myIgGModel_submission_v20240927.tsv', sep='\\t')\n",
    "template_filled = template.copy()"
   ]
  },
  {
   "cell_type": "code",
   "execution_count": 22,
   "metadata": {},
   "outputs": [],
   "source": [
    "# rearrange final pred df so that the order of subject_id matches the template SubjectID column\n",
    "sorted = final_pred_df.copy()\n",
    "sorted = sorted.set_index('subject_id').loc[template['SubjectID']].reset_index()\n",
    "assert all(sorted['subject_id'] == template['SubjectID'])"
   ]
  },
  {
   "cell_type": "code",
   "execution_count": 23,
   "metadata": {},
   "outputs": [],
   "source": [
    "template_filled['1.1) IgG-PT-D14-titer-Rank'] = sorted['pred_IgG_PT__14']\n",
    "template_filled['1.1) IgG-PT-D14-titer-Rank'] = template_filled['1.1) IgG-PT-D14-titer-Rank'].rank(ascending=False)\n",
    "template_filled['1.2) IgG-PT-D14-FC-Rank'] = sorted['pred_fc_IgG_PT__14']\n",
    "template_filled['1.2) IgG-PT-D14-FC-Rank'] = template_filled['1.2) IgG-PT-D14-FC-Rank'].rank(ascending=False)\n",
    "template_filled['2.1) Monocytes-D1-Rank'] = sorted['pred_Monocytes__1']\n",
    "template_filled['2.1) Monocytes-D1-Rank'] = template_filled['2.1) Monocytes-D1-Rank'].rank(ascending=False)\n",
    "template_filled['2.2) Monocytes-D1-FC-Rank'] = sorted['pred_fc_Monocytes__1']\n",
    "template_filled['2.2) Monocytes-D1-FC-Rank'] = template_filled['2.2) Monocytes-D1-FC-Rank'].rank(ascending=False)\n",
    "template_filled['3.1) CCL3-D3-Rank'] = sorted['pred_ENSG00000277632.1__3']\n",
    "template_filled['3.1) CCL3-D3-Rank'] = template_filled['3.1) CCL3-D3-Rank'].rank(ascending=False)\n",
    "template_filled['3.2) CCL3-D3-FC-Rank'] = sorted['pred_fc_ENSG00000277632.1__3']\n",
    "template_filled['3.2) CCL3-D3-FC-Rank'] = template_filled['3.2) CCL3-D3-FC-Rank'].rank(ascending=False)\n",
    "template_filled['4.1) IFNG/IL5-Polarization-D30-Rank'] = sorted['pred_bonus']\n",
    "template_filled['4.1) IFNG/IL5-Polarization-D30-Rank'] = template_filled['4.1) IFNG/IL5-Polarization-D30-Rank'].rank(ascending=False)\n",
    "template_filled.to_csv('data/final_submission_2.tsv', sep='\\t', index=False)"
   ]
  }
 ],
 "metadata": {
  "kernelspec": {
   "display_name": "base",
   "language": "python",
   "name": "python3"
  },
  "language_info": {
   "codemirror_mode": {
    "name": "ipython",
    "version": 3
   },
   "file_extension": ".py",
   "mimetype": "text/x-python",
   "name": "python",
   "nbconvert_exporter": "python",
   "pygments_lexer": "ipython3",
   "version": "3.10.13"
  }
 },
 "nbformat": 4,
 "nbformat_minor": 2
}
